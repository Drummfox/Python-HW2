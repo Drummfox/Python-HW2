{
 "cells": [
  {
   "cell_type": "code",
   "execution_count": 1,
   "id": "35c75056",
   "metadata": {},
   "outputs": [
    {
     "name": "stdout",
     "output_type": "stream",
     "text": [
      "t\n"
     ]
    }
   ],
   "source": [
    "# Если в слове четное количетво букв то две средние, если нечентное то середину\n",
    "\n",
    "word = 'testing'\n",
    "lword = len(word)\n",
    "slword = lword//2 \n",
    "#print(lword)\n",
    "#print(slword)\n",
    "if lword % 2 == 0:\n",
    "    n = slword - 1\n",
    "    k = slword + 1\n",
    "    print(word[n:k]) \n",
    "else:\n",
    "    print(word[slword])"
   ]
  },
  {
   "cell_type": "code",
   "execution_count": 5,
   "id": "b841dbcf",
   "metadata": {},
   "outputs": [
    {
     "name": "stdout",
     "output_type": "stream",
     "text": [
      "Введите число1\n",
      "Введите число2\n",
      "Введите число0\n",
      "3\n"
     ]
    }
   ],
   "source": [
    "## последовательно запрашивает у пользователя числа (по одному за раз)\n",
    "# и после первого нуля выводит сумму всех ранее введенных чисел\n",
    "x = int(input('Введите число'))\n",
    "sum1 = 0\n",
    "while x!=0:\n",
    "    sum1 += x \n",
    "    x = int(input('Введите число'))  \n",
    "print(sum1)"
   ]
  },
  {
   "cell_type": "code",
   "execution_count": 7,
   "id": "33d98738",
   "metadata": {},
   "outputs": [
    {
     "name": "stdout",
     "output_type": "stream",
     "text": [
      "Идеальные пары:\n",
      "Alex и Emma\n",
      "Arthur и Kate\n",
      "John и Kira\n",
      "Peter и Liza\n",
      "Richard и Trisha\n"
     ]
    }
   ],
   "source": [
    "boys = ['Peter', 'Alex', 'John', 'Arthur', 'Richard']\n",
    "girls = ['Kate', 'Liza', 'Kira', 'Emma', 'Trisha']\n",
    "\n",
    "if len(boys) == len (girls):\n",
    "    b = sorted(boys)\n",
    "    g = sorted(girls)\n",
    "    print('Идеальные пары:')\n",
    "    i=0\n",
    "    while i < len(boys):\n",
    "        print(b[i] + ' и ' + g[i])\n",
    "        i+=1  \n",
    "else:\n",
    "    print('Внимание, кто-то может остаться без пары!')"
   ]
  },
  {
   "cell_type": "code",
   "execution_count": 8,
   "id": "d07499ed",
   "metadata": {},
   "outputs": [
    {
     "name": "stdout",
     "output_type": "stream",
     "text": [
      "Средняя температура в странах:\n",
      "Thailand - 23.9 C\n",
      "Germany - 13.8 C\n",
      "Russia - 3.7 C\n",
      "Poland - 12.0 C\n"
     ]
    }
   ],
   "source": [
    "countries_temperature = [\n",
    "    ['Thailand', [75.2, 77, 78.8, 73.4, 68, 75.2, 77]],\n",
    "    ['Germany', [57.2, 55.4, 59, 59, 53.6]],\n",
    "    ['Russia', [35.6, 37.4, 39.2, 41, 42.8, 39.2, 35.6]],\n",
    "    ['Poland', [50, 50, 53.6, 57.2, 55.4, 55.4]]\n",
    "]\n",
    "\n",
    "print ('Средняя температура в странах:')\n",
    "for i in countries_temperature:\n",
    "    name = i[0]\n",
    "    st = ((sum(i[1])/len(i[1]))-32)/1.8\n",
    "    print(f'{name} - {st:.1f} C' )"
   ]
  },
  {
   "cell_type": "code",
   "execution_count": 11,
   "id": "463b3cac",
   "metadata": {},
   "outputs": [
    {
     "name": "stdout",
     "output_type": "stream",
     "text": [
      "23.25\n"
     ]
    }
   ],
   "source": [
    "stream = [\n",
    "    '2018-01-01,user1,3',\n",
    "    '2018-01-07,user1,4',\n",
    "    '2018-03-29,user1,1',\n",
    "    '2018-04-04,user1,13',\n",
    "    '2018-01-05,user2,7',\n",
    "    '2018-06-14,user3,4',\n",
    "    '2018-07-02,user3,10',\n",
    "    '2018-03-21,user4,19',\n",
    "    '2018-03-22,user4,4',\n",
    "    '2018-04-22,user4,8',\n",
    "    '2018-05-03,user4,9',\n",
    "    '2018-05-11,user4,11',\n",
    "]\n",
    "\n",
    "users = []\n",
    "for i in stream:\n",
    "    user = i.split(',')\n",
    "    users.append(user[1])        \n",
    " #извлечение пользователей\n",
    "\n",
    "unic_users = []\n",
    "for i in users:\n",
    "    if i not in unic_users:\n",
    "        unic_users.append(i)\n",
    " #уникальные пользователи\n",
    "\n",
    "views = []\n",
    "for i in stream:\n",
    "    sstream = i.split(',')\n",
    "    views.append(int(sstream[2]))\n",
    "#извлечение просмотров\n",
    "    \n",
    "sum_view = sum(views)\n",
    "sum_unic_users = len(unic_users)\n",
    "ans = sum_view/sum_unic_users\n",
    "print(ans)\n"
   ]
  },
  {
   "cell_type": "code",
   "execution_count": 39,
   "id": "9bdb29fa",
   "metadata": {},
   "outputs": [
    {
     "name": "stdout",
     "output_type": "stream",
     "text": [
      "Введите числа разделенные пробелом1 1 2 2 3 3\n",
      "1, 2, 3\n"
     ]
    }
   ],
   "source": [
    "list_ = str(input('Введите числа разделенные пробелом'))\n",
    "list1 = list_.split(' ')\n",
    "not_unic_list = []\n",
    "for i in list1:\n",
    "    count_ = list1.count(i)\n",
    "    if (count_ > 1) and (i not in not_unic_list):\n",
    "        not_unic_list.append(i)\n",
    "    \n",
    "print(', '.join(not_unic_list))"
   ]
  }
 ],
 "metadata": {
  "kernelspec": {
   "display_name": "Python 3 (ipykernel)",
   "language": "python",
   "name": "python3"
  },
  "language_info": {
   "codemirror_mode": {
    "name": "ipython",
    "version": 3
   },
   "file_extension": ".py",
   "mimetype": "text/x-python",
   "name": "python",
   "nbconvert_exporter": "python",
   "pygments_lexer": "ipython3",
   "version": "3.9.13"
  }
 },
 "nbformat": 4,
 "nbformat_minor": 5
}
